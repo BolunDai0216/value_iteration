{
 "cells": [
  {
   "cell_type": "code",
   "execution_count": 1,
   "metadata": {},
   "outputs": [],
   "source": [
    "import cvxpy as cp\n",
    "import torch\n",
    "from cvxpylayers.torch import CvxpyLayer"
   ]
  },
  {
   "cell_type": "code",
   "execution_count": 3,
   "metadata": {},
   "outputs": [],
   "source": [
    "n, m = 2, 3\n",
    "x = cp.Variable(n)\n",
    "A = cp.Parameter((m, n))\n",
    "b = cp.Parameter(m)\n",
    "constraints = [x >= 0]\n",
    "objective = cp.Minimize(0.5 * cp.pnorm(A @ x - b, p=1))\n",
    "problem = cp.Problem(objective, constraints)\n",
    "assert problem.is_dpp()\n",
    "\n",
    "cvxpylayer = CvxpyLayer(problem, parameters=[A, b], variables=[x])\n",
    "A_tch = torch.randn(m, n, requires_grad=True)\n",
    "b_tch = torch.randn(m, requires_grad=True)\n",
    "\n",
    "# solve the problem\n",
    "solution, = cvxpylayer(A_tch, b_tch)\n",
    "\n",
    "# compute the gradient of the sum of the solution with respect to A, b\n",
    "solution.sum().backward()"
   ]
  },
  {
   "cell_type": "code",
   "execution_count": 4,
   "metadata": {},
   "outputs": [
    {
     "data": {
      "text/plain": [
       "tensor([1.1428e-11, 4.6239e-01], grad_fn=<_CvxpyLayerFnFnBackward>)"
      ]
     },
     "execution_count": 4,
     "metadata": {},
     "output_type": "execute_result"
    }
   ],
   "source": [
    "solution"
   ]
  },
  {
   "cell_type": "code",
   "execution_count": null,
   "metadata": {},
   "outputs": [],
   "source": []
  }
 ],
 "metadata": {
  "kernelspec": {
   "display_name": "deeprl_env3",
   "language": "python",
   "name": "deeprl_env3"
  },
  "language_info": {
   "codemirror_mode": {
    "name": "ipython",
    "version": 3
   },
   "file_extension": ".py",
   "mimetype": "text/x-python",
   "name": "python",
   "nbconvert_exporter": "python",
   "pygments_lexer": "ipython3",
   "version": "3.8.10"
  }
 },
 "nbformat": 4,
 "nbformat_minor": 4
}
